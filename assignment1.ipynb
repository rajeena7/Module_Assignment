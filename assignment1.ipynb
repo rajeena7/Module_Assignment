{
 "cells": [
  {
   "cell_type": "code",
   "execution_count": null,
   "id": "612c6cb1-9c37-4e03-8464-cc46fd662af8",
   "metadata": {},
   "outputs": [],
   "source": [
    "#•\tWhat is the difference between static and dynamic variables in python?"
   ]
  },
  {
   "cell_type": "code",
   "execution_count": null,
   "id": "11ac877c-cc68-4ec7-b3e8-16019b3fdaf5",
   "metadata": {},
   "outputs": [],
   "source": [
    "'''\n",
    "Static variables are usually associated with class-level variables that are shared among all instances of a class.\n",
    "They are defined within a class but outside of any instance method.\n",
    "These variables are accessed using the class name rather than instance variables.\n",
    "'''"
   ]
  },
  {
   "cell_type": "code",
   "execution_count": 3,
   "id": "07de9b1a-06e7-4da7-819b-1a78c8151735",
   "metadata": {},
   "outputs": [],
   "source": [
    "class mycl:\n",
    "    static_var=5 #static variable\n",
    "    \n",
    "    \n",
    "    def __init__(self,int_var):\n",
    "        self.int_var=int_var\n",
    "        \n",
    "        \n"
   ]
  },
  {
   "cell_type": "code",
   "execution_count": 4,
   "id": "1aadd1de-e5be-4c19-83a4-ef4c98dcf524",
   "metadata": {},
   "outputs": [
    {
     "name": "stdout",
     "output_type": "stream",
     "text": [
      "5\n"
     ]
    }
   ],
   "source": [
    "#accessing the static variable\n",
    "print(mycl.static_var)"
   ]
  },
  {
   "cell_type": "code",
   "execution_count": null,
   "id": "3f1754d5-178f-413e-b1b3-2b04e6c3faaf",
   "metadata": {},
   "outputs": [],
   "source": [
    "'''Dynamic Variables:\n",
    "All variables (instance variables and even class variables) are inherently dynamic. \n",
    "This means their type can change as the program executes. Python doesn't require you to declare the type of a variable explicitly, \n",
    "and you can reassign a variable to different types.'''"
   ]
  },
  {
   "cell_type": "code",
   "execution_count": 5,
   "id": "32eb23e4-ac4a-4909-a61c-d5f52e064256",
   "metadata": {},
   "outputs": [
    {
     "name": "stdout",
     "output_type": "stream",
     "text": [
      "5\n",
      "Hello\n"
     ]
    }
   ],
   "source": [
    "dynamic_var = 5\n",
    "print(dynamic_var) \n",
    "\n",
    "dynamic_var = \"Hello\"\n",
    "print(dynamic_var)  "
   ]
  },
  {
   "cell_type": "code",
   "execution_count": null,
   "id": "2d24f1b7-c321-4469-a92d-299aa02f843a",
   "metadata": {},
   "outputs": [],
   "source": [
    "#•\tExplain the purpose of pop , popitem and clear()  in a dictionary with suitable examples."
   ]
  },
  {
   "cell_type": "code",
   "execution_count": null,
   "id": "52c44799-c9c3-4cbc-befc-75d39cad3ad4",
   "metadata": {},
   "outputs": [],
   "source": [
    "'''\n",
    "pop()\n",
    "\n",
    "The pop() method removes the specified key and returns the corresponding value. \n",
    "If the key is not found, it raises a KeyError unless a default value is provided.\n",
    "\n",
    "popitem()\n",
    "The popitem() method removes and returns the last key-value pair as a tuple. \n",
    "This method is useful for quickly removing and retrieving items from the dictionary in a LIFO (last-in, first-out) manner.\n",
    "If the dictionary is empty, it raises a KeyError\n",
    "\n",
    "clear()\n",
    "\n",
    "The clear() method removes all items from the dictionary, effectively emptying it.'''"
   ]
  },
  {
   "cell_type": "code",
   "execution_count": 7,
   "id": "d9217a37-0d10-4026-85ab-66274be14de9",
   "metadata": {},
   "outputs": [
    {
     "name": "stdout",
     "output_type": "stream",
     "text": [
      "{'a': 1, 'b': 2, 'c': 3}\n",
      "2\n",
      "{'a': 1, 'c': 3}\n"
     ]
    }
   ],
   "source": [
    "my_dic={'a' :1, 'b':2,'c':3}\n",
    "\n",
    "print(my_dic)\n",
    "\n",
    "\n",
    "val=my_dic.pop('b')\n",
    "print(val)\n",
    "\n",
    "print(my_dic)"
   ]
  },
  {
   "cell_type": "code",
   "execution_count": 9,
   "id": "ed8cc871-2c6b-4ad4-9e14-abedc6ebe80f",
   "metadata": {},
   "outputs": [
    {
     "name": "stdout",
     "output_type": "stream",
     "text": [
      "{'a': 1, 'b': 2, 'c': 3, 'd': 4, 'e': 5}\n",
      "('e', 5)\n"
     ]
    }
   ],
   "source": [
    "my_dic={'a':1,'b':2,'c':3,'d':4,'e':5}\n",
    "\n",
    "print(my_dic)\n",
    "\n",
    "item=my_dic.popitem()\n",
    "print(item)\n"
   ]
  },
  {
   "cell_type": "code",
   "execution_count": 10,
   "id": "2f97c974-9122-4ca0-80e1-fb20e3153d05",
   "metadata": {},
   "outputs": [
    {
     "name": "stdout",
     "output_type": "stream",
     "text": [
      "{'a': 1, 'b': 2, 'c': 3}\n",
      "{}\n"
     ]
    }
   ],
   "source": [
    "my_dict = {'a': 1, 'b': 2, 'c': 3}\n",
    "print(my_dict)\n",
    "my_dict.clear()\n",
    "print(my_dict) "
   ]
  },
  {
   "cell_type": "code",
   "execution_count": null,
   "id": "e3ccd8e7-a3a2-44cd-ad42-a748c713364b",
   "metadata": {},
   "outputs": [],
   "source": [
    "#•\tWhat do you mean by FrozenSet? Explain it with suitable examples."
   ]
  },
  {
   "cell_type": "code",
   "execution_count": null,
   "id": "0a810f1d-8bc6-4587-b917-38059889e5bd",
   "metadata": {},
   "outputs": [],
   "source": [
    "'''\n",
    "a frozenset is a built-in data type that is similar to a set, but with the key difference that it is immutable. \n",
    "This means once a frozenset is created, its elements cannot be changed or updated. It is essentially a set that is read-only and hashable, \n",
    "making it suitable for situations where you need an immutable collection of unique elements.'''"
   ]
  },
  {
   "cell_type": "code",
   "execution_count": 1,
   "id": "a16279e2-e105-48be-84c0-d25b2089cef3",
   "metadata": {},
   "outputs": [],
   "source": [
    "#•\tDifferentiate between mutable and immutable data types in python and give examples of mutable and immutable data types."
   ]
  },
  {
   "cell_type": "code",
   "execution_count": null,
   "id": "6003488a-b2ab-4293-ae7e-ae3011e25e8d",
   "metadata": {},
   "outputs": [],
   "source": [
    "'''\n",
    "Mutable data types are those whose state or contents can be changed after they are created. This means that you can modify, add,\n",
    "or remove elements without creating a new object.\n",
    "\n",
    "\n",
    "List:Dictionary:Set:\n",
    "\n",
    "Immutable data types are those whose state or contents cannot be changed after they are created. If you want to modify an immutable object,\n",
    "you must create a new object.\n",
    "\n",
    "String:Tuple:frozenset:Numbers:"
   ]
  },
  {
   "cell_type": "code",
   "execution_count": null,
   "id": "a13b6cd2-4086-4427-94da-8873439f1917",
   "metadata": {},
   "outputs": [],
   "source": [
    "#•\tWhat is__init__ with an example."
   ]
  },
  {
   "cell_type": "code",
   "execution_count": null,
   "id": "a51ffe1f-67f8-4891-8c00-2d3b86f0f32d",
   "metadata": {},
   "outputs": [],
   "source": [
    "'''\n",
    " __init__ is a special method, often referred to as the \"constructor.\" It is automatically called when a new instance (object) of a class is created. The primary purpose of __init__ is to initialize the object's attributes with values when\n",
    " the object is created.\n",
    " \n",
    " Characteristics of __init__\n",
    " Initialization:Special Method: Automatic Invocation:\n",
    " "
   ]
  },
  {
   "cell_type": "code",
   "execution_count": 2,
   "id": "37a26ccd-ffc4-42af-9645-966fdd047cb2",
   "metadata": {},
   "outputs": [],
   "source": [
    "class Student:\n",
    "    def __init__(self,name,age):\n",
    "        self.name=name\n",
    "        self.age=age\n",
    "        \n",
    "    def intro(self):\n",
    "        print(f\"Hai my name is {self.name} and I am {self.age} years old\")\n",
    "        \n",
    "        \n",
    "        \n",
    "        "
   ]
  },
  {
   "cell_type": "code",
   "execution_count": 3,
   "id": "5ddd99ba-2cae-474b-b8a5-aaa409633a10",
   "metadata": {},
   "outputs": [],
   "source": [
    "std1=Student(\"Manu\",16)\n",
    "std2=Student(\"Rani\",17)"
   ]
  },
  {
   "cell_type": "code",
   "execution_count": 4,
   "id": "b221613a-e0ea-4d00-ba94-20701fee4e73",
   "metadata": {},
   "outputs": [
    {
     "name": "stdout",
     "output_type": "stream",
     "text": [
      "Manu\n",
      "17\n"
     ]
    }
   ],
   "source": [
    "print(std1.name)\n",
    "print(std2.age)"
   ]
  },
  {
   "cell_type": "code",
   "execution_count": 6,
   "id": "7bd05026-e4e9-4652-9cc7-1b62e8dbe97e",
   "metadata": {},
   "outputs": [
    {
     "name": "stdout",
     "output_type": "stream",
     "text": [
      "Hai my name is Manu and I am 16 years old\n",
      "Hai my name is Rani and I am 17 years old\n"
     ]
    }
   ],
   "source": [
    "std1.intro()\n",
    "std2.intro()"
   ]
  },
  {
   "cell_type": "code",
   "execution_count": null,
   "id": "9d76c273-2d4f-4a54-a876-0ebb6498853f",
   "metadata": {},
   "outputs": [],
   "source": [
    "#•\tWhat is docstring in Python?Explain with an example"
   ]
  },
  {
   "cell_type": "code",
   "execution_count": null,
   "id": "76e5afd2-b88d-4f95-9469-1b8d2e787ad2",
   "metadata": {},
   "outputs": [],
   "source": [
    "'''\n",
    "a docstring is a string literal that appears right after the definition of a function, method, class, or module. \n",
    "It is used to document what the function, method, class, or module does. Docstrings are a convenient way of associating documentation with Python code, making it easier for others (and yourself) to \n",
    "understand what the code does.\n",
    "\n",
    "Characteristics of Docstrings\n",
    "Location: Docstrings are placed as the first statement in a function, method, class, or module definition.\n",
    "Syntax: They are typically enclosed in triple quotes (\"\"\") to allow for multi-line documentation, though single quotes (''')\n",
    "'''can also be used.'''\n",
    "'''Access: Docstrings can be accessed programmatically using the __doc__ attribute of the object.'''\n",
    "\n"
   ]
  },
  {
   "cell_type": "code",
   "execution_count": null,
   "id": "921ab52d-298f-401c-a2e1-3f992505206f",
   "metadata": {},
   "outputs": [],
   "source": [
    "#•\tWhat are unit tests in Python?"
   ]
  },
  {
   "cell_type": "code",
   "execution_count": null,
   "id": "1b4ea8cb-32ca-4c73-98a0-7bcf541c8a60",
   "metadata": {},
   "outputs": [],
   "source": [
    "'''\n",
    "Unit tests in Python are a type of software testing where individual units or components of a program are tested in isolation.\n",
    "The primary goal of unit testing is to verify that each unit of the software performs as expected. \n",
    "A \"unit\" in this context typically refers to the smallest testable part of the application, \n",
    "such as functions, methods, or classes.\n",
    "\n",
    "Benefits of Unit Testing\n",
    "Early Bug Detection: Identifying issues early in the development process saves time and reduces the cost of fixing bugs.\n",
    "Documentation: Provides documentation for the codebase, showing expected inputs and outputs for functions and methods.\n",
    "Facilitates Refactoring: With a comprehensive suite of unit tests, developers can refactor code with confidence, knowing that if tests pass,\n",
    "the functionality remains intact.\n",
    "Enhances Collaboration: Ensures that different parts of the team can work on the codebase simultaneously without breaking existing functionality.\n",
    "'''"
   ]
  },
  {
   "cell_type": "code",
   "execution_count": null,
   "id": "b64a772b-dac7-48b6-b997-3e38e0accc80",
   "metadata": {},
   "outputs": [],
   "source": [
    "#•\tWhat is break, continue and pass in python?"
   ]
  },
  {
   "cell_type": "code",
   "execution_count": null,
   "id": "33221618-6068-4ec5-b6d9-00be73d07458",
   "metadata": {},
   "outputs": [],
   "source": [
    "'''\n",
    "In Python, break, continue, and pass are control flow statements that are used to alter the normal flow of a loop or to serve as placeholders in the code. \n",
    "Each has a specific use case and behavior:\n",
    "\n",
    "The break statement is used to exit a loop prematurely. When break is executed within a loop, the loop terminates immediately, and control is transferred\n",
    "to the statement following the loop.\n",
    "\n",
    "\n",
    "The continue statement is used to skip the current iteration of a loop and move to the next iteration. Unlike break, it does not exit the loop entirely but rather skips the remaining code in the current iteration\n",
    "and jumps to the next iteration.\n",
    "\n",
    "The pass statement is a no-operation (no-op) statement in Python. It is used as a placeholder in code where a statement is syntactically required but no action is needed. This can be useful during development when you're outlining the structure of your code \n",
    "and want to fill in details later.\n",
    "'''"
   ]
  },
  {
   "cell_type": "code",
   "execution_count": null,
   "id": "88a42abb-c0ad-4330-baf5-34e389afb825",
   "metadata": {},
   "outputs": [],
   "source": [
    "#•\tWhat are lists and tuples? What is the key difference between the two?"
   ]
  },
  {
   "cell_type": "code",
   "execution_count": null,
   "id": "14dee390-5ba5-40cd-a79c-dc7e6b03ba69",
   "metadata": {},
   "outputs": [],
   "source": [
    "'''\n",
    "both lists and tuples are data structures used to store collections of items. They are similar in many ways but have some key differences, \n",
    "particularly regarding mutability and usage.\n",
    "\n",
    "\n",
    "Lists\n",
    "Definition: A list is an ordered, mutable collection of elements that can hold items of different types. Lists are defined using square brackets [].\n",
    "Mutability: Lists are mutable, meaning that once a list is created, you can modify its contents, such as adding, removing, or changing items.\n",
    "Methods: Lists have a variety of built-in methods like append(), remove(), sort(), extend(), and others that facilitate list manipulation.\n",
    "\n",
    "Tuples\n",
    "Definition: A tuple is an ordered, immutable collection of elements that can also hold items of different types. Tuples are defined using parentheses ().\n",
    "Mutability: Tuples are immutable, meaning that once a tuple is created, its contents cannot be changed. This immutability makes tuples hashable and allows them to be used as keys in dictionaries or elements of sets.\n",
    "Methods: Tuples have fewer methods compared to lists, primarily because they are immutable. Commonly used methods include count() and index().\n",
    "\n",
    "'''\n"
   ]
  },
  {
   "cell_type": "code",
   "execution_count": 9,
   "id": "4e68a0e7-4019-429b-b786-d8ef207ba094",
   "metadata": {},
   "outputs": [
    {
     "name": "stdout",
     "output_type": "stream",
     "text": [
      "[1, 2, 3, 4, 5, 6]\n",
      "[9, 3, 4, 5, 6, 7]\n"
     ]
    }
   ],
   "source": [
    "my_list=[1,2,3,4,5,6]\n",
    "print(my_list)\n",
    "my_list.append(7) #Adding an element\n",
    "\n",
    "my_list.remove(2)# Removing an element\n",
    "\n",
    "my_list[0]=9     # Modifying an element\n",
    "\n",
    "print(my_list)"
   ]
  },
  {
   "cell_type": "code",
   "execution_count": 10,
   "id": "ba5ee087-264c-4531-a62e-5f63173032ac",
   "metadata": {},
   "outputs": [
    {
     "name": "stdout",
     "output_type": "stream",
     "text": [
      "(1, 2, 3, 4, 5)\n"
     ]
    }
   ],
   "source": [
    "my_tuple = (1, 2, 3, 4, 5)\n",
    "# my_tuple[0] = 10  # This would raise an error because tuples are immutable\n",
    "print(my_tuple)      # Output: (1, 2, 3, 4, 5)"
   ]
  },
  {
   "cell_type": "code",
   "execution_count": null,
   "id": "de31de48-6c5a-4d60-9f0c-04093721d27c",
   "metadata": {},
   "outputs": [],
   "source": [
    "#•\tWhat is an Interpreted language & dynamically typed language?Write 5 differences between them."
   ]
  },
  {
   "cell_type": "code",
   "execution_count": null,
   "id": "d3b29692-a7f7-480a-ab12-2cf9291376d9",
   "metadata": {},
   "outputs": [],
   "source": [
    "'''\n",
    "An interpreted language is one where the code is executed directly by an interpreter,\n",
    "rather than being compiled into machine code ahead of time. This means that the source code is read, analyzed, and executed line-by-line or statement-by-statement by the interpreter.\n",
    "\n",
    "A dynamically typed language is one where the type of a variable is determined at runtime, rather than at compile-time. In such languages, you do not need to declare the type of a variable explicitly; \n",
    "it is inferred based on the value assigned to it.\n",
    "\n",
    "Nature of Concept:\n",
    "\n",
    "Interpreted Language: Refers to how a programming language executes code. It involves the direct execution of instructions by an interpreter.\n",
    "Dynamically Typed Language: Refers to the type system of a programming language, specifically how and when variable types are assigned and checked\n",
    "\n",
    "\n",
    "Execution:\n",
    "\n",
    "Interpreted Language: Code is executed line-by-line by an interpreter, which means that code can be run immediately without a separate compilation step. Examples include Python, JavaScript, and Ruby.\n",
    "Dynamically Typed Language: The type of each variable is determined at runtime. There is no need to explicitly declare variable types, and the same variable can hold different types of values at different times.\n",
    "Examples include Python, JavaScript, and Perl.\n",
    "Type Checking:\n",
    "\n",
    "Interpreted Language: Type checking (if any) happens at runtime as part of the interpretation process. This is not inherently tied to whether a language is interpreted or compiled.\n",
    "Dynamically Typed Language: Type checking occurs at runtime. Variables are not bound to a specific type, which allows for more flexibility but can also lead to runtime errors if type mismatches occur.\n",
    "\n",
    "\n",
    "\n",
    "Performance:\n",
    "\n",
    "Interpreted Language: Typically slower than compiled languages because code is translated to machine instructions on the fly. Performance can vary depending on the efficiency of the interpreter.\n",
    "Dynamically Typed Language: Performance might be impacted by the need to check types at runtime, but this is not directly related to whether the language is interpreted or compiled.\n",
    "\n",
    "\n",
    "Error Detection:\n",
    "\n",
    "Interpreted Language: Errors may only be detected at runtime when the interpreter encounters them, which can lead to issues being caught later in the development cycle.\n",
    "Dynamically Typed Language: Type-related errors are detected at runtime. This can be convenient but also risky, as type errors can cause runtime exceptions if not properly handled.\n"
   ]
  },
  {
   "cell_type": "code",
   "execution_count": null,
   "id": "3d999a6a-8163-47b2-9555-ee634b9fa79f",
   "metadata": {},
   "outputs": [],
   "source": [
    "#•\tWhat are Dict and List comprehensions?"
   ]
  },
  {
   "cell_type": "code",
   "execution_count": null,
   "id": "540cbb69-b7f3-4327-977a-f4e76b8abf73",
   "metadata": {},
   "outputs": [],
   "source": [
    "'''\n",
    "Dict comprehensions and list comprehensions are concise syntactic constructs in Python that allow for the creation of dictionaries and lists, respectively, from existing iterables. They provide a more readable and often more efficient way to generate these data structures\n",
    "compared to traditional loops.\n",
    "\n",
    "List comprehensions provide a way to create lists in a single line of code. They consist of an expression followed by a for clause, and optionally one or more if clauses. The expression is evaluated for each item in the iterable, \n",
    "and the result is used to populate the new list.\n",
    "\n",
    "\n"
   ]
  },
  {
   "cell_type": "code",
   "execution_count": 11,
   "id": "1deef91a-7371-4517-9516-015f77afed27",
   "metadata": {},
   "outputs": [
    {
     "name": "stdout",
     "output_type": "stream",
     "text": [
      "[0, 1, 4, 9, 16, 25, 36, 49, 64, 81]\n"
     ]
    }
   ],
   "source": [
    "squares = [x**2 for x in range(10)]\n",
    "print(squares)"
   ]
  },
  {
   "cell_type": "code",
   "execution_count": 12,
   "id": "ad2bda31-5c32-41d3-83a5-66dbd27ff7ef",
   "metadata": {},
   "outputs": [
    {
     "name": "stdout",
     "output_type": "stream",
     "text": [
      "[0, 2, 4, 6, 8]\n"
     ]
    }
   ],
   "source": [
    "#Filtering even numbers from a list:\n",
    "even_numbers = [x for x in range(10) if x % 2 == 0]\n",
    "print(even_numbers)  "
   ]
  },
  {
   "cell_type": "code",
   "execution_count": null,
   "id": "0f8b2b59-99b6-4489-b56c-b446b3460d6a",
   "metadata": {},
   "outputs": [],
   "source": [
    "'''\n",
    "Dict comprehensions are similar to list comprehensions but are used to create dictionaries. They consist of a key-value pair expression followed by a for \n",
    "clause and optionally one or more if clauses.'''\n"
   ]
  },
  {
   "cell_type": "code",
   "execution_count": 13,
   "id": "8cbecbcc-1a1a-47bd-b847-d5326a2449e9",
   "metadata": {},
   "outputs": [
    {
     "name": "stdout",
     "output_type": "stream",
     "text": [
      "{0: 0, 1: 1, 2: 4, 3: 9, 4: 16, 5: 25, 6: 36, 7: 49, 8: 64, 9: 81}\n"
     ]
    }
   ],
   "source": [
    "squares_dict = {x: x**2 for x in range(10)}\n",
    "print(squares_dict) "
   ]
  },
  {
   "cell_type": "code",
   "execution_count": 14,
   "id": "ba601c42-6c8a-4d0e-a18a-69815d1f53ba",
   "metadata": {},
   "outputs": [
    {
     "name": "stdout",
     "output_type": "stream",
     "text": [
      "{'b': 2, 'd': 4}\n"
     ]
    }
   ],
   "source": [
    "#Filtering dictionary items:\n",
    "original_dict = {'a': 1, 'b': 2, 'c': 3, 'd': 4}\n",
    "filtered_dict = {k: v for k, v in original_dict.items() if v % 2 == 0}\n",
    "print(filtered_dict) "
   ]
  },
  {
   "cell_type": "code",
   "execution_count": 10,
   "id": "91ef89e1-f847-4299-888a-6f0d9e7e502c",
   "metadata": {},
   "outputs": [],
   "source": [
    "#What is lambda in python? Why is it used?"
   ]
  },
  {
   "cell_type": "code",
   "execution_count": null,
   "id": "748f2883-abaf-4f1e-b8b8-eedc7fd962da",
   "metadata": {},
   "outputs": [],
   "source": [
    "'''\n",
    "A lambda function is a small anonymous function defined using the lambda keyword.\n",
    "A lambda function can take any number of arguments but only has one expression.'''\n",
    "\n",
    "'''\n",
    "Simplicity: Lambda functions are often used for short, simple functions that are not needed multiple times, so defining them as full functions with def might be overkill.\n",
    "\n",
    "Inline Functions: Lambdas are useful when you need a function for a short period of time or in a specific place, such as when passing a function as an argument to higher-order functions like map(), filter(), and sorted().\n",
    "\n",
    "Conciseness: They can make the code more concise and readable when used appropriately, especially for small, throwaway functions.'''\n"
   ]
  },
  {
   "cell_type": "code",
   "execution_count": 12,
   "id": "caa70166-b3e9-4d2b-a4da-7f2785536005",
   "metadata": {},
   "outputs": [
    {
     "name": "stdout",
     "output_type": "stream",
     "text": [
      "6\n"
     ]
    }
   ],
   "source": [
    "sumn=lambda x,y:x+y\n",
    "print(sumn(3,3))"
   ]
  },
  {
   "cell_type": "code",
   "execution_count": null,
   "id": "cb8d86ca-a5d4-402a-a7c9-38bf0b155236",
   "metadata": {},
   "outputs": [],
   "source": [
    "#•\tHow does inheritance work in python? "
   ]
  },
  {
   "cell_type": "code",
   "execution_count": null,
   "id": "15b6372b-3d93-40bc-8e7a-e86c91e2901c",
   "metadata": {},
   "outputs": [],
   "source": [
    "'''\n",
    "Inheritance in Python is a mechanism where a new class (called a child or subclass) inherits attributes\n",
    "and methods from an existing class (called a parent or superclass). It allows for code reuse and the creation of \n",
    "hierarchical class structures.\n",
    "\n",
    "\n",
    "Types of Inheritance in Python\n",
    "Single Inheritance\n",
    "Multiple Inheritance\n",
    "Multilevel Inheritance\n",
    "Hierarchical Inheritance\n",
    "Hybrid Inheritance'''\n"
   ]
  },
  {
   "cell_type": "code",
   "execution_count": 15,
   "id": "b2248734-78b9-4671-8df5-e759e99df1a9",
   "metadata": {},
   "outputs": [],
   "source": [
    "# Parent class\n",
    "class Animal:\n",
    "    def sound(self):\n",
    "        return \"sound\"\n",
    "\n",
    "# Child class\n",
    "class Dog(Animal):\n",
    "    def speak(self):\n",
    "        return \"Bark\"\n",
    "\n",
    "\n"
   ]
  },
  {
   "cell_type": "code",
   "execution_count": 16,
   "id": "b197d3dc-d5e6-42ed-8bd2-45612bf89885",
   "metadata": {},
   "outputs": [
    {
     "name": "stdout",
     "output_type": "stream",
     "text": [
      "sound\n",
      "Bark\n"
     ]
    }
   ],
   "source": [
    "dog = Dog()\n",
    "print(dog.sound())  # Output: Some sound\n",
    "print(dog.speak())  # Output: Bark"
   ]
  },
  {
   "cell_type": "code",
   "execution_count": null,
   "id": "aa9797b1-4cc9-41d7-9e90-fac976d88f3e",
   "metadata": {},
   "outputs": [],
   "source": [
    "#•\tWhat is encapsulation? "
   ]
  },
  {
   "cell_type": "code",
   "execution_count": null,
   "id": "384099d3-c0fa-4975-859c-850860dd12b9",
   "metadata": {},
   "outputs": [],
   "source": [
    "'''\n",
    "Encapsulation is one of the fundamental principles of object-oriented programming (OOP). \n",
    "It refers to the bundling of data (attributes) and methods (functions) that operate on the data into a single unit or class.\n",
    "Encapsulation restricts direct access to some of the object's components, which is a way of preventing accidental or unauthorized\n",
    "modifications. \n",
    "This is typically achieved by using access modifiers like private, protected, and public.'''\n"
   ]
  },
  {
   "cell_type": "code",
   "execution_count": null,
   "id": "7326b2d3-267e-42ef-882b-81c4351fc553",
   "metadata": {},
   "outputs": [],
   "source": [
    "'''\n",
    "Key Concepts in Encapsulation:\n",
    "Public Members: Accessible from anywhere.\n",
    "Protected Members: Prefixed with a single underscore _, \n",
    "they are intended to be used within the class and its subclasses, but not from outside.\n",
    "Private Members: Prefixed with double underscores __, they are accessible only within the class where they are defined.'''"
   ]
  },
  {
   "cell_type": "code",
   "execution_count": null,
   "id": "10a2f128-fc7e-4d4f-9565-598f825f61b2",
   "metadata": {},
   "outputs": [],
   "source": [
    "#•\tWhat is polymorphism? "
   ]
  },
  {
   "cell_type": "code",
   "execution_count": null,
   "id": "527dbefb-e8f1-4fff-888b-729ea7d5ba28",
   "metadata": {},
   "outputs": [],
   "source": [
    "'''\n",
    "Polymorphism is another fundamental principle of object-oriented programming (OOP). It refers to the ability\n",
    "of different objects to be treated as instances of the same class through a common interface. \n",
    "Polymorphism allows objects of different classes to respond to the same method calls in their unique ways,\n",
    "depending on their class's implementation.\n",
    "\n",
    "In simpler terms, polymorphism allows methods to do different things based on the object it is acting upon, \n",
    "even though the method name is the same.'''"
   ]
  },
  {
   "cell_type": "code",
   "execution_count": null,
   "id": "ae046d5d-89a8-430d-aba5-6a3daeb15cbd",
   "metadata": {},
   "outputs": [],
   "source": [
    "'''\n",
    "Types of Polymorphism in Python\n",
    "Method Overriding (Run-time Polymorphism)\n",
    "Method Overloading (Compile-time Polymorphism - Python does not support this directly but can be mimicked)\n",
    "Operator Overloading'''"
   ]
  },
  {
   "cell_type": "code",
   "execution_count": null,
   "id": "d1b8d0b2-3240-492b-ad1a-3990c87d5f35",
   "metadata": {},
   "outputs": [],
   "source": [
    "'''\n",
    "Benefits of Polymorphism:\n",
    "Flexibility and Extensibility: Allows for the design of flexible and extendable systems where objects of different types can be handled uniformly.\n",
    "Code Reusability: By allowing objects to interact through a common interface, polymorphism promotes code reusability.\n",
    "Ease of Maintenance: With polymorphism, the behavior of a method can be changed easily by overriding it in a subclass,\n",
    "making the system easier to maintain.'''"
   ]
  }
 ],
 "metadata": {
  "kernelspec": {
   "display_name": "Python 3 (ipykernel)",
   "language": "python",
   "name": "python3"
  },
  "language_info": {
   "codemirror_mode": {
    "name": "ipython",
    "version": 3
   },
   "file_extension": ".py",
   "mimetype": "text/x-python",
   "name": "python",
   "nbconvert_exporter": "python",
   "pygments_lexer": "ipython3",
   "version": "3.10.8"
  }
 },
 "nbformat": 4,
 "nbformat_minor": 5
}
