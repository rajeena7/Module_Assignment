{
 "cells": [
  {
   "cell_type": "code",
   "execution_count": null,
   "id": "74de00ae-fe60-42b5-83a4-2e03c4c15fe6",
   "metadata": {},
   "outputs": [],
   "source": [
    "'''Which of the following identifier names are invalid and why?\n",
    "a)\tSerial_no.\n",
    "b)\t1st_Room\n",
    "c)\tHundred$\n",
    "d)\tTotal_Marks\n",
    "e)\ttotal-Marks\n",
    "f)\tTotal Marks\n",
    "g)\tTrue\n",
    "h)\t_ percentag\n",
    "'''"
   ]
  },
  {
   "cell_type": "code",
   "execution_count": null,
   "id": "3542fada-4f97-4c94-968e-5de2f34e4e5a",
   "metadata": {},
   "outputs": [],
   "source": [
    "'''\n",
    "a) Serial_no.\n",
    "\n",
    "Invalid: The period . is not allowed in identifier names.\n",
    "\n",
    "\n",
    "b) 1st_Room\n",
    "\n",
    "Invalid: Identifiers cannot start with a digit. The name starts with 1, making it invalid.\n",
    "c) Hundred$\n",
    "\n",
    "Invalid: The dollar sign $ is not allowed in Python identifiers.\n",
    "d) Total_Marks\n",
    "\n",
    "Valid: This identifier follows all the rules (starts with a letter, contains only letters, numbers, and underscores).\n",
    "e) total-Marks\n",
    "\n",
    "Invalid: The hyphen - is not allowed in identifiers.\n",
    "f) Total Marks\n",
    "\n",
    "Invalid: Spaces are not allowed in identifiers. The space between \"Total\" and \"Marks\" makes it invalid.\n",
    "g) True\n",
    "\n",
    "Invalid: True is a reserved keyword in Python and cannot be used as an identifier.\n",
    "h) _ percentag\n",
    "\n",
    "Invalid: While starting an identifier with an underscore is valid, this identifier contains a space (_ percentag), which is not allowed.\n",
    "\n",
    "'''\n"
   ]
  },
  {
   "cell_type": "code",
   "execution_count": null,
   "id": "4597a9d2-d2f8-461a-9c73-fa6737b42fe4",
   "metadata": {},
   "outputs": [],
   "source": [
    "'''\n",
    "name = ('Mohan•, \"dash\", \"karam•,  do the following operations in this list;\n",
    "a)\tadd an element \"freedom_fighter\" in this list at the 0th index.\n",
    "b)\tfind the output of the following rand explain how?\n",
    " \n",
    "d) what will be the value of temp:\n",
    " ['Bapuji\", \"dash•, •karam\", \n",
    "print(name)'''\n"
   ]
  },
  {
   "cell_type": "code",
   "execution_count": 7,
   "id": "a89644ab-95bf-486d-9120-16705e00b5d6",
   "metadata": {},
   "outputs": [],
   "source": [
    "name=[\"Mohan\",\"dash\",\"karam\",\"chandra\",\"gandhi\",\"bapu\"]"
   ]
  },
  {
   "cell_type": "code",
   "execution_count": 8,
   "id": "280ea14c-65a9-4fe1-9763-582f4be9e714",
   "metadata": {},
   "outputs": [
    {
     "data": {
      "text/plain": [
       "['Mohan', 'dash', 'karam', 'chandra', 'gandhi', 'bapu']"
      ]
     },
     "execution_count": 8,
     "metadata": {},
     "output_type": "execute_result"
    }
   ],
   "source": [
    "name"
   ]
  },
  {
   "cell_type": "code",
   "execution_count": 9,
   "id": "5cae6e76-bf9f-439b-ae1d-18cd84a913c6",
   "metadata": {},
   "outputs": [
    {
     "name": "stdout",
     "output_type": "stream",
     "text": [
      "['freedom_fighter', 'Mohan', 'dash', 'karam', 'chandra', 'gandhi', 'bapu']\n"
     ]
    }
   ],
   "source": [
    "#a)\tadd an element \"freedom_fighter\" in this list at the 0th index.\n",
    "\n",
    "name.insert(0,\"freedom_fighter\")\n",
    "print(name)"
   ]
  },
  {
   "cell_type": "code",
   "execution_count": 10,
   "id": "2c556b6c-2f0e-4f10-ad5c-bd99e87749b4",
   "metadata": {},
   "outputs": [
    {
     "name": "stdout",
     "output_type": "stream",
     "text": [
      "8\n"
     ]
    }
   ],
   "source": [
    "#b)\tfind the output of the following rand explain how?\n",
    "name = [\"freedom Fighter\", \"Bapuji\", \"Mohan\", \"dash\", \"karam\", \"chandra\", \"gandhi\"]\n",
    "\n",
    "length1 = len(name[-len(name)+1:-1:2])\n",
    "length2 = len(name[-len(name)+1:-1])\n",
    "\n",
    "print(length1 + length2)"
   ]
  },
  {
   "cell_type": "code",
   "execution_count": 11,
   "id": "7377d0df-95d2-4363-b28c-bdb63b09d6c8",
   "metadata": {},
   "outputs": [
    {
     "name": "stdout",
     "output_type": "stream",
     "text": [
      "['freedom Fighter', 'Bapuji', 'Mohan', 'dash', 'karam', 'chandra', 'gandhi', 'Netaji', 'Bose']\n"
     ]
    }
   ],
   "source": [
    "#c) add two more elements in the name [\"Netaji\",\"Bose\"] at the end of the list.\n",
    "\n",
    "name.extend([\"Netaji\", \"Bose\"])\n",
    "print(name)\n",
    "\n",
    "\n"
   ]
  },
  {
   "cell_type": "code",
   "execution_count": 15,
   "id": "1ab15597-7e11-471e-80e3-d1c5b7c1e657",
   "metadata": {},
   "outputs": [
    {
     "name": "stdout",
     "output_type": "stream",
     "text": [
      "['Mohan', 'dash', 'karam', 'chandra', 'gandi', 'Bapuji']\n"
     ]
    }
   ],
   "source": [
    "#d) what will be the value of temp: \n",
    "name = [\"Bapuji\", \"dash\", \"karam\", \"chandra\",\"gandi\", \"Mohan\"] \n",
    "temp=name[-1] \n",
    "name[-1]=name[0] \n",
    "name[0]=temp \n",
    "print(name) "
   ]
  },
  {
   "cell_type": "code",
   "execution_count": 16,
   "id": "a95012f7-6411-48d9-9abd-d4e63fd17a32",
   "metadata": {},
   "outputs": [
    {
     "name": "stdout",
     "output_type": "stream",
     "text": [
      "Mohan\n"
     ]
    }
   ],
   "source": [
    "print(temp)"
   ]
  },
  {
   "cell_type": "code",
   "execution_count": 21,
   "id": "128a9572-0f63-4832-b69e-8f89422042c5",
   "metadata": {},
   "outputs": [
    {
     "name": "stdout",
     "output_type": "stream",
     "text": [
      "2\n",
      "4\n",
      "7\n"
     ]
    }
   ],
   "source": [
    "#Question 1.4.Find the output of the following. \n",
    "animal = ['Human','cat','mat','cat','rat','Human','Lion']\n",
    "          \n",
    "print(animal.count('Human')) \n",
    "print(animal.index('rat')) \n",
    "print(len(animal)) \n"
   ]
  },
  {
   "cell_type": "code",
   "execution_count": 22,
   "id": "1cdc1ad1-e072-44e0-bbb9-74a6d517f201",
   "metadata": {},
   "outputs": [
    {
     "name": "stdout",
     "output_type": "stream",
     "text": [
      "8\n"
     ]
    }
   ],
   "source": [
    "#Question 1.5.\n",
    "tuple1=(10,20,\"Apple\",3.4,'a', [\"master\", \"ji\"],(\"sita\",\"geeta\",22),[{\"roll_no\":1}, {\"name\":\"Navneet\"}]) \n",
    "\n",
    "#a) print(len(tuple1)) \n",
    "print(len(tuple1))\n"
   ]
  },
  {
   "cell_type": "code",
   "execution_count": 23,
   "id": "44b73c0f-5925-4a17-93cd-350248d09d05",
   "metadata": {},
   "outputs": [
    {
     "name": "stdout",
     "output_type": "stream",
     "text": [
      "Navneet\n"
     ]
    }
   ],
   "source": [
    "#b) print(tuple1[-1][-1][\"name\"]) \n",
    "\n",
    "print(tuple1[-1][-1][\"name\"]) "
   ]
  },
  {
   "cell_type": "code",
   "execution_count": 24,
   "id": "1e185df8-9f4c-4dae-b08b-22c82b3017ef",
   "metadata": {},
   "outputs": [
    {
     "name": "stdout",
     "output_type": "stream",
     "text": [
      "1\n"
     ]
    }
   ],
   "source": [
    "#c)fetch the value of roll_no from this tuple. \n",
    "\n",
    "roll_no_value = tuple1[-1][0][\"roll_no\"]\n",
    "print(roll_no_value)"
   ]
  },
  {
   "cell_type": "code",
   "execution_count": 25,
   "id": "1f246a58-3917-44da-a2b9-4c3e77e07161",
   "metadata": {},
   "outputs": [
    {
     "name": "stdout",
     "output_type": "stream",
     "text": [
      "ji\n"
     ]
    }
   ],
   "source": [
    "#d) print(tuple1[-3][1]) \n",
    "print(tuple1[-3][1]) "
   ]
  },
  {
   "cell_type": "code",
   "execution_count": null,
   "id": "5318f3fb-e58a-4f37-b445-c3074db7e1c5",
   "metadata": {},
   "outputs": [],
   "source": [
    "#Write a program to display the appropriate message as per the color of signal (RED-Stop/Yellow-Stay/ Green-Go) at the road crossing. \n"
   ]
  },
  {
   "cell_type": "code",
   "execution_count": 1,
   "id": "71ed5406-cfa9-4209-9305-3c8fc47713a5",
   "metadata": {},
   "outputs": [
    {
     "name": "stdin",
     "output_type": "stream",
     "text": [
      "Enter the traffic signal color (Red, Yellow, Green) or 'exit' to quit:  yellow\n"
     ]
    },
    {
     "name": "stdout",
     "output_type": "stream",
     "text": [
      "Stay\n"
     ]
    },
    {
     "name": "stdin",
     "output_type": "stream",
     "text": [
      "Enter the traffic signal color (Red, Yellow, Green) or 'exit' to quit:  red\n"
     ]
    },
    {
     "name": "stdout",
     "output_type": "stream",
     "text": [
      "Stop\n"
     ]
    },
    {
     "name": "stdin",
     "output_type": "stream",
     "text": [
      "Enter the traffic signal color (Red, Yellow, Green) or 'exit' to quit:  green\n"
     ]
    },
    {
     "name": "stdout",
     "output_type": "stream",
     "text": [
      "Go\n"
     ]
    },
    {
     "name": "stdin",
     "output_type": "stream",
     "text": [
      "Enter the traffic signal color (Red, Yellow, Green) or 'exit' to quit:  exit\n"
     ]
    },
    {
     "name": "stdout",
     "output_type": "stream",
     "text": [
      "Exiting the program.\n"
     ]
    }
   ],
   "source": [
    "def display_signal_message(color):\n",
    "    \"\"\"Display the message based on the traffic signal color.\"\"\"\n",
    "    if color.lower() == 'red':\n",
    "        return \"Stop\"\n",
    "    elif color.lower() == 'yellow':\n",
    "        return \"Stay\"\n",
    "    elif color.lower() == 'green':\n",
    "        return \"Go\"\n",
    "    else:\n",
    "        return \"Invalid color. Please enter Red, Yellow, or Green.\"\n",
    "\n",
    "def main():\n",
    "    while True:\n",
    "        # Ask the user for the traffic signal color\n",
    "        signal_color = input(\"Enter the traffic signal color (Red, Yellow, Green) or 'exit' to quit: \").strip()\n",
    "        \n",
    "        if signal_color.lower() == 'exit':\n",
    "            print(\"Exiting the program.\")\n",
    "            break\n",
    "        \n",
    "        # Display the appropriate message\n",
    "        message = display_signal_message(signal_color)\n",
    "        print(message)\n",
    "\n",
    "\n",
    "if __name__ == \"__main__\":\n",
    "    main()\n"
   ]
  },
  {
   "cell_type": "code",
   "execution_count": null,
   "id": "4c30e805-33d1-4eae-bd06-2218fe6122e2",
   "metadata": {},
   "outputs": [],
   "source": [
    "#Write a program to create a simple calculator performing only four basic operations(+, -,/,*). "
   ]
  },
  {
   "cell_type": "code",
   "execution_count": 2,
   "id": "ab34342f-e2da-4d03-8447-b35be4b90995",
   "metadata": {},
   "outputs": [
    {
     "name": "stdout",
     "output_type": "stream",
     "text": [
      "\n",
      "Simple Calculator\n",
      "Select operation:\n",
      "1. Add (+)\n",
      "2. Subtract (-)\n",
      "3. Multiply (*)\n",
      "4. Divide (/)\n"
     ]
    },
    {
     "name": "stdin",
     "output_type": "stream",
     "text": [
      "Enter choice (1/2/3/4) or 'exit' to quit:  2\n",
      "Enter first number:  5\n",
      "Enter second number:  2\n"
     ]
    },
    {
     "name": "stdout",
     "output_type": "stream",
     "text": [
      "The result is: 3.0\n",
      "\n",
      "Simple Calculator\n",
      "Select operation:\n",
      "1. Add (+)\n",
      "2. Subtract (-)\n",
      "3. Multiply (*)\n",
      "4. Divide (/)\n"
     ]
    },
    {
     "name": "stdin",
     "output_type": "stream",
     "text": [
      "Enter choice (1/2/3/4) or 'exit' to quit:  exit\n"
     ]
    },
    {
     "name": "stdout",
     "output_type": "stream",
     "text": [
      "Exiting the calculator.\n"
     ]
    }
   ],
   "source": [
    "def add(x, y):\n",
    "    \"\"\"Return the sum of x and y.\"\"\"\n",
    "    return x + y\n",
    "\n",
    "def subtract(x, y):\n",
    "    \"\"\"Return the difference between x and y.\"\"\"\n",
    "    return x - y\n",
    "\n",
    "def multiply(x, y):\n",
    "    \"\"\"Return the product of x and y.\"\"\"\n",
    "    return x * y\n",
    "\n",
    "def divide(x, y):\n",
    "    \"\"\"Return the quotient of x divided by y.\"\"\"\n",
    "    if y != 0:\n",
    "        return x / y\n",
    "    else:\n",
    "        return \"Error: Division by zero is not allowed.\"\n",
    "\n",
    "def main():\n",
    "    while True:\n",
    "        print(\"\\nSimple Calculator\")\n",
    "        print(\"Select operation:\")\n",
    "        print(\"1. Add (+)\")\n",
    "        print(\"2. Subtract (-)\")\n",
    "        print(\"3. Multiply (*)\")\n",
    "        print(\"4. Divide (/)\")\n",
    "\n",
    "        choice = input(\"Enter choice (1/2/3/4) or 'exit' to quit: \").strip()\n",
    "\n",
    "        if choice.lower() == 'exit':\n",
    "            print(\"Exiting the calculator.\")\n",
    "            break\n",
    "\n",
    "        if choice in ('1', '2', '3', '4'):\n",
    "            try:\n",
    "                num1 = float(input(\"Enter first number: \"))\n",
    "                num2 = float(input(\"Enter second number: \"))\n",
    "            except ValueError:\n",
    "                print(\"Invalid input. Please enter numeric values.\")\n",
    "                continue\n",
    "\n",
    "            if choice == '1':\n",
    "                print(f\"The result is: {add(num1, num2)}\")\n",
    "            elif choice == '2':\n",
    "                print(f\"The result is: {subtract(num1, num2)}\")\n",
    "            elif choice == '3':\n",
    "                print(f\"The result is: {multiply(num1, num2)}\")\n",
    "            elif choice == '4':\n",
    "                result = divide(num1, num2)\n",
    "                print(f\"The result is: {result}\")\n",
    "        else:\n",
    "            print(\"Invalid choice. Please choose a valid operation.\")\n",
    "\n",
    "if __name__ == \"__main__\":\n",
    "    main()\n"
   ]
  },
  {
   "cell_type": "code",
   "execution_count": null,
   "id": "24eff0a8-d916-4531-80b1-e2016a71f64b",
   "metadata": {},
   "outputs": [],
   "source": [
    "#Write a program to find the factors of a whole number using a while loop. "
   ]
  },
  {
   "cell_type": "code",
   "execution_count": 3,
   "id": "0afa1026-96d3-497b-94d0-165deaf82124",
   "metadata": {},
   "outputs": [
    {
     "name": "stdin",
     "output_type": "stream",
     "text": [
      "Enter a whole number:  18\n"
     ]
    },
    {
     "name": "stdout",
     "output_type": "stream",
     "text": [
      "The factors of 18 are: [1, 2, 3, 6, 9, 18]\n"
     ]
    }
   ],
   "source": [
    "def find_factors(number):\n",
    "    \"\"\"Find and print the factors of the given number using a while loop.\"\"\"\n",
    "    if number < 1:\n",
    "        print(\"Please enter a whole number greater than or equal to 1.\")\n",
    "        return\n",
    "\n",
    "    factor = 1\n",
    "    factors = []\n",
    "    \n",
    "    while factor <= number:\n",
    "        if number % factor == 0:\n",
    "            factors.append(factor)\n",
    "        factor += 1\n",
    "    \n",
    "    print(f\"The factors of {number} are: {factors}\")\n",
    "\n",
    "def main():\n",
    "    try:\n",
    "        num = int(input(\"Enter a whole number: \"))\n",
    "        find_factors(num)\n",
    "    except ValueError:\n",
    "        print(\"Invalid input. Please enter a valid whole number.\")\n",
    "\n",
    "# Run the main function\n",
    "if __name__ == \"__main__\":\n",
    "    main()\n"
   ]
  },
  {
   "cell_type": "code",
   "execution_count": null,
   "id": "ffc64384-a1af-484a-83cb-6ac6149459f3",
   "metadata": {},
   "outputs": [],
   "source": [
    "#Write a code for Airline Reservation System using OOPS: \n",
    "'''• Create a Flight class that has attributes such as flight number, departure and arrival airports, departure and arrival times, and available seats (private). \n",
    "Implement methods to book a seat, cancel a reservation, and get the remaining available seats. \n",
    "• Use encapsulation to hide the flight's unique identification number. \n",
    "• Inherit from the Flight class to create a Domestic Flight class and an InternationalFlight class, each with their own specific attributes and methods'''\n"
   ]
  },
  {
   "cell_type": "code",
   "execution_count": 5,
   "id": "801bf0b9-2897-4f40-a15e-41fce1a31364",
   "metadata": {},
   "outputs": [],
   "source": [
    "class Flight:\n",
    "    def __init__(self, flight_number, departure_airport, arrival_airport, departure_time, arrival_time, available_seats):\n",
    "        self.__flight_number = flight_number\n",
    "        self.departure_airport = departure_airport\n",
    "        self.arrival_airport = arrival_airport\n",
    "        self.departure_time = departure_time\n",
    "        self.arrival_time = arrival_time\n",
    "        self.__available_seats = available_seats\n",
    "\n",
    "    def book_seat(self):\n",
    "        if self.__available_seats > 0:\n",
    "            self.__available_seats -= 1\n",
    "            print(\"Seat booked successfully.\")\n",
    "        else:\n",
    "            print(\"No available seats.\")\n",
    "\n",
    "    def cancel_reservation(self):\n",
    "        self.__available_seats += 1\n",
    "        print(\"Reservation canceled. Seat added back.\")\n",
    "\n",
    "    def get_available_seats(self):\n",
    "        return self.__available_seats\n",
    "\n",
    "    def get_flight_number(self):\n",
    "        return self.__flight_number\n",
    "\n",
    "\n",
    "class DomesticFlight(Flight):\n",
    "    def __init__(self, flight_number, departure_airport, arrival_airport, departure_time, arrival_time, available_seats, state_code):\n",
    "        super().__init__(flight_number, departure_airport, arrival_airport, departure_time, arrival_time, available_seats)\n",
    "        self.state_code = state_code\n",
    "\n",
    "    def get_state_code(self):\n",
    "        return self.state_code\n",
    "\n",
    "\n",
    "class InternationalFlight(Flight):\n",
    "    def __init__(self, flight_number, departure_airport, arrival_airport, departure_time, arrival_time, available_seats, country_code):\n",
    "        super().__init__(flight_number, departure_airport, arrival_airport, departure_time, arrival_time, available_seats)\n",
    "        self.country_code = country_code\n",
    "\n",
    "    def get_country_code(self):\n",
    "        return self.country_code\n",
    "\n",
    "\n",
    "# Example usage:\n",
    "if __name__ == \"__main__\":\n",
    "    domestic_flight = DomesticFlight(\n",
    "        flight_number=\"DL123\",\n",
    "        departure_airport=\"NYC\",\n",
    "        arrival_airport=\"LA\",\n",
    "        departure_time=\"10:00\",\n",
    "        arrival_time=\"13:00\",\n",
    "        available_seats=100,\n",
    "        state_code=\"CA\"\n",
    "    )\n",
    "\n",
    "    international_flight = InternationalFlight(\n",
    "        flight_number=\"IA456\",\n",
    "        departure_airport=\"NYC\",\n",
    "        arrival_airport=\"LON\",\n",
    "        departure_time=\"20:00\",\n",
    "        arrival_time=\"08:00\",\n",
    "        available_seats=50,\n",
    "        country_code=\"GB\"\n",
    "    )\n",
    "\n",
    "    "
   ]
  },
  {
   "cell_type": "code",
   "execution_count": 7,
   "id": "12ee6baa-47d6-4071-9236-656bbd67a2d0",
   "metadata": {},
   "outputs": [
    {
     "name": "stdout",
     "output_type": "stream",
     "text": [
      "Seat booked successfully.\n",
      "Seat booked successfully.\n"
     ]
    }
   ],
   "source": [
    "# Booking seats\n",
    "domestic_flight.book_seat()\n",
    "international_flight.book_seat()"
   ]
  },
  {
   "cell_type": "code",
   "execution_count": 8,
   "id": "ebca50d6-1526-4817-a8fc-b7ccab052546",
   "metadata": {},
   "outputs": [
    {
     "name": "stdout",
     "output_type": "stream",
     "text": [
      "Reservation canceled. Seat added back.\n"
     ]
    }
   ],
   "source": [
    " # Canceling reservation\n",
    "domestic_flight.cancel_reservation()"
   ]
  },
  {
   "cell_type": "code",
   "execution_count": 9,
   "id": "b05d6fd2-0c5f-45c3-add6-4df7f7e9392d",
   "metadata": {},
   "outputs": [
    {
     "name": "stdout",
     "output_type": "stream",
     "text": [
      "Available seats on domestic flight: 100\n",
      "Available seats on international flight: 49\n"
     ]
    }
   ],
   "source": [
    "# Displaying remaining available seats\n",
    "print(f\"Available seats on domestic flight: {domestic_flight.get_available_seats()}\")\n",
    "print(f\"Available seats on international flight: {international_flight.get_available_seats()}\")"
   ]
  },
  {
   "cell_type": "code",
   "execution_count": 10,
   "id": "e7988b53-318a-4af8-b68d-1200beb9d92e",
   "metadata": {},
   "outputs": [
    {
     "name": "stdout",
     "output_type": "stream",
     "text": [
      "Domestic flight state code: CA\n",
      "International flight country code: GB\n"
     ]
    }
   ],
   "source": [
    "# Displaying flight details\n",
    "print(f\"Domestic flight state code: {domestic_flight.get_state_code()}\")\n",
    "print(f\"International flight country code: {international_flight.get_country_code()}\")"
   ]
  },
  {
   "cell_type": "code",
   "execution_count": 11,
   "id": "9189bbc1-e5c8-490d-99c7-fcac37d403be",
   "metadata": {},
   "outputs": [],
   "source": []
  },
  {
   "cell_type": "code",
   "execution_count": null,
   "id": "76b87f92-0199-4290-b47c-cd7b3d900f22",
   "metadata": {},
   "outputs": [],
   "source": []
  }
 ],
 "metadata": {
  "kernelspec": {
   "display_name": "Python 3 (ipykernel)",
   "language": "python",
   "name": "python3"
  },
  "language_info": {
   "codemirror_mode": {
    "name": "ipython",
    "version": 3
   },
   "file_extension": ".py",
   "mimetype": "text/x-python",
   "name": "python",
   "nbconvert_exporter": "python",
   "pygments_lexer": "ipython3",
   "version": "3.10.8"
  }
 },
 "nbformat": 4,
 "nbformat_minor": 5
}
